{
  "nbformat": 4,
  "nbformat_minor": 0,
  "metadata": {
    "kernelspec": {
      "display_name": "Python 3",
      "language": "python",
      "name": "python3"
    },
    "language_info": {
      "codemirror_mode": {
        "name": "ipython",
        "version": 3
      },
      "file_extension": ".py",
      "mimetype": "text/x-python",
      "name": "python",
      "nbconvert_exporter": "python",
      "pygments_lexer": "ipython3",
      "version": "3.7.4"
    },
    "colab": {
      "name": "EX1.ipynb",
      "provenance": [],
      "collapsed_sections": [],
      "include_colab_link": true
    }
  },
  "cells": [
    {
      "cell_type": "markdown",
      "metadata": {
        "id": "view-in-github",
        "colab_type": "text"
      },
      "source": [
        "<a href=\"https://colab.research.google.com/github/parhambarazesh/PET575/blob/master/EX1.ipynb\" target=\"_parent\"><img src=\"https://colab.research.google.com/assets/colab-badge.svg\" alt=\"Open In Colab\"/></a>"
      ]
    },
    {
      "cell_type": "code",
      "metadata": {
        "id": "klgHka1BcYzZ",
        "colab_type": "code",
        "colab": {},
        "outputId": "7709be44-1e94-4c8c-d8d2-b9afb3bdfa73"
      },
      "source": [
        "#H-B model fsolve\n",
        "from scipy.optimize import fsolve\n",
        "import math\n",
        "import numpy as np\n",
        "import matplotlib.pyplot as plt\n",
        "%matplotlib inline\n",
        "theta=np.array([64,42,34,26,15,10])\n",
        "gamma=np.array([600,300,200,100,6,3])*1.7\n",
        "\n",
        "def equations(p):\n",
        "    x, y, z = p\n",
        "    theta=np.array([64,42,34,26,15,10])\n",
        "    gamma=np.array([600,300,200,100,6,3])*1.7\n",
        "\n",
        "    theta_cp_n=np.array([theta[0],theta[1],theta[4]])\n",
        "    gamma_s_n=np.array([gamma[0],gamma[1],gamma[4]])\n",
        "    return (theta_cp_n[0]-x-y*(gamma_s_n[0])**z, \n",
        "            theta_cp_n[1]-x-y*(gamma_s_n[1])**z,\n",
        "            theta_cp_n[2]-x-y*(gamma_s_n[2])**z)\n",
        "\n",
        "tau0_HBc, K_HBc, n_HBc =  fsolve(equations, (0,1,1))\n",
        "\n",
        "x=np.arange(1,601)*1.7\n",
        "theta_HBc=tau0_HBc+K_HBc*(x)**n_HBc\n",
        "\n",
        "plt.plot(x,theta_HBc,'b')\n",
        "plt.plot(gamma,theta,'or')\n",
        "plt.legend(['simulated data','lab data'])\n"
      ],
      "execution_count": 0,
      "outputs": [
        {
          "output_type": "execute_result",
          "data": {
            "text/plain": [
              "<matplotlib.legend.Legend at 0x7fd196a0e510>"
            ]
          },
          "metadata": {
            "tags": []
          },
          "execution_count": 1
        },
        {
          "output_type": "display_data",
          "data": {
            "image/png": "[encoded data removed]",
            "text/plain": [
              "<Figure size 432x288 with 1 Axes>"
            ]
          },
          "metadata": {
            "tags": [],
            "needs_background": "light"
          }
        }
      ]
    },
    {
      "cell_type": "code",
      "metadata": {
        "id": "o0_oC77GcYzb",
        "colab_type": "code",
        "colab": {},
        "outputId": "f8c1a493-414f-4513-a231-5d97764700cf"
      },
      "source": [
        "#H-B model bisection\n",
        "\n",
        "def f(x,parameter):\n",
        "    theta1=parameter[0][0];\n",
        "    theta2=parameter[0][1];\n",
        "    theta3=parameter[0][2];\n",
        "\n",
        "    gamma1=parameter[1][0];\n",
        "    gamma2=parameter[1][1];\n",
        "    gamma3=parameter[1][2];\n",
        "\n",
        "    y = theta1-theta3-(theta1-theta2)*(gamma1**x-gamma3**x)/(gamma1**x-gamma2**x)\n",
        "    return y\n",
        "\n",
        "def bisec(a,b,parameter):\n",
        "    if f(a,parameter)*f(b,parameter)>0:\n",
        "        print('Wrong choice');\n",
        "        return None\n",
        "    else:\n",
        "        err=np.abs(a-b);\n",
        "        while err>1e-7:\n",
        "            p=(a+b)/2;\n",
        "            if f(a,parameter)*f(p,parameter)<0:\n",
        "                b=p;\n",
        "            else:\n",
        "                a=p;\n",
        "            err=np.abs(a-b);\n",
        "            \n",
        "    return p\n",
        "\n",
        "\n",
        "a=3\n",
        "b=0.01\n",
        "\n",
        "theta=np.array([64,42,34,26,15,10])\n",
        "gamma=np.array([600,300,200,100,6,3])*1.7\n",
        "\n",
        "theta_cp_n=np.array([theta[0],theta[1],theta[4]])\n",
        "gamma_s_n=np.array([gamma[0],gamma[1],gamma[4]])\n",
        "    \n",
        "parameter=np.array([theta_cp_n,gamma_s_n])\n",
        "\n",
        "n=bisec(a,b,parameter)\n",
        "K = (theta[0]-theta[1])/(gamma[0]**n-gamma[1]**n)\n",
        "\n",
        "theta_o = theta[2]-K*gamma[2]**n\n",
        "\n",
        "x=np.arange(1,601)*1.7\n",
        "\n",
        "\n",
        "theta_HBc=theta_o+K*(x)**n\n",
        "\n",
        "plt.plot(x,theta_HBc,'b')\n",
        "plt.plot(gamma,theta,'or')\n",
        "plt.legend(['simulated data','lab data'])"
      ],
      "execution_count": 0,
      "outputs": [
        {
          "output_type": "execute_result",
          "data": {
            "text/plain": [
              "<matplotlib.legend.Legend at 0x7fd195dc3b50>"
            ]
          },
          "metadata": {
            "tags": []
          },
          "execution_count": 2
        },
        {
          "output_type": "display_data",
          "data": {
            "image/png": "[encoded data removed]",
            "text/plain": [
              "<Figure size 432x288 with 1 Axes>"
            ]
          },
          "metadata": {
            "tags": [],
            "needs_background": "light"
          }
        }
      ]
    },
    {
      "cell_type": "code",
      "metadata": {
        "id": "mnnU-xQocYzd",
        "colab_type": "code",
        "colab": {}
      },
      "source": [
        ""
      ],
      "execution_count": 0,
      "outputs": []
    },
    {
      "cell_type": "code",
      "metadata": {
        "id": "hwMgh7TmcYzf",
        "colab_type": "code",
        "colab": {}
      },
      "source": [
        ""
      ],
      "execution_count": 0,
      "outputs": []
    }
  ]
}