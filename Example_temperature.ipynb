{
  "nbformat": 4,
  "nbformat_minor": 0,
  "metadata": {
    "kernelspec": {
      "display_name": "Python 3",
      "language": "python",
      "name": "python3"
    },
    "language_info": {
      "codemirror_mode": {
        "name": "ipython",
        "version": 3
      },
      "file_extension": ".py",
      "mimetype": "text/x-python",
      "name": "python",
      "nbconvert_exporter": "python",
      "pygments_lexer": "ipython3",
      "version": "3.7.4"
    },
    "colab": {
      "name": "Example_temperature.ipynb",
      "provenance": [],
      "include_colab_link": true
    }
  },
  "cells": [
    {
      "cell_type": "markdown",
      "metadata": {
        "id": "view-in-github",
        "colab_type": "text"
      },
      "source": [
        "<a href=\"https://colab.research.google.com/github/parhambarazesh/PET575/blob/master/Example_temperature.ipynb\" target=\"_parent\"><img src=\"https://colab.research.google.com/assets/colab-badge.svg\" alt=\"Open In Colab\"/></a>"
      ]
    },
    {
      "cell_type": "code",
      "metadata": {
        "scrolled": true,
        "id": "Y4w91Z_zgab3",
        "colab_type": "code",
        "colab": {},
        "outputId": "ce002983-9ce9-42f8-d06a-0cd4eeef6017"
      },
      "source": [
        "import numpy as np\n",
        "import matplotlib.pyplot as plt\n",
        "%matplotlib inline\n",
        "\n",
        "inch=0.08333\n",
        "bbl=42\n",
        "\n",
        "h = 15000          #well depth, feet\n",
        "d_pi = 6.625       #drill string OD,inch\n",
        "d_p = 6.375        #drill string ID,inch\n",
        "d_bit = 8.375      #drill bit size, inch\n",
        "d_ci = 10.25       #casing ID, inch\n",
        "flow = 100         #circulation rate, bbl/hour\n",
        "T_in = 30          #inlet drilling fluid temperature, F\n",
        "mu = 110           #drilling fluid viscosity, lb/(ft-hr)\n",
        "k_f = 1            #drilling fluid thermal conductivity, Btu/(ft-F-hr)\n",
        "k_p = 1            #drillstring thermal conductivity, Btu/(ft-F-hr)\n",
        "c_f = 0.4          #drilling fluid specific heat, Btu/(lb-F)\n",
        "rho_f = 10         #drilling fluid density, lb/gal\n",
        "k = 1.3            #formation thermal conductivity,Btu/(ft-F-hr)\n",
        "c = 0.2            #formation specific heat, Btu/(lb-F)\n",
        "rho = 165          #formation density, lb/gal\n",
        "T_e = 19.5         #surface earth temperature, F\n",
        "g_e = 0.0127       #geothermal gradient, F/ft\n",
        "t = 44             #circulation hours\n",
        "\n",
        "r_pi = d_pi*inch/2\n",
        "r_p = d_p*inch/2\n",
        "r_wb = d_bit*inch/2\n",
        "r_ci = d_ci*inch/2\n",
        "flow = flow*bbl\n",
        "\n",
        "#drilling parameter calculation\n",
        "A_p = np.pi*r_pi**2;                                #cross-sectional area of drillstring\n",
        "N_rep = 2*r_pi*flow/A_p/mu*rho_f;                   #Reyleigh number for drilling string\n",
        "\n",
        "A_a = np.pi*(r_wb**2-r_pi**2);                      #cross-sectional area of annulus\n",
        "N_rea = 0.816*2*(r_wb-r_pi)*flow*rho_f/(A_a*mu);    # Reyleigh number annulus\n",
        "\n",
        "N_pr = mu*c_f/k_f;                                  #Prandtl number\n",
        "\n",
        "h_p = 0.023*N_rep**0.8*N_pr**0.4*k_f/2/r_pi;        #coefficient of heat transfer of drilling fluid in drillstring\n",
        "\n",
        "h_a = 0.023*N_rea**0.8*N_pr**0.4*k_f/2/r_wb;        #coefficient of heat transfer of drilling fluid in annulus\n",
        "\n",
        "U_p = (1/h_p+r_p/k_p*np.log(r_pi/r_p)+r_pi/r_p/h_a)**-1#overall coefficient of heat transfer of drilling fluid in drillstring\n",
        "U_a = h_a;\n",
        "\n",
        "alpha = k/c/rho;                                    #heat diffusivity of formation\n",
        "t_D = alpha*t/r_wb**2;                               \n",
        "T_D = (0.4063+0.5*np.log(t_D))*(1+0.6/t_D);         #dimensionless temperature\n",
        "\n",
        "#model coefficients\n",
        "A = 2*np.pi*r_pi*U_p/(rho_f*flow*c_f);                 \n",
        "B = 2*np.pi*r_ci*U_a*k/(rho_f*flow*c_f*(k+r_ci*U_a*T_D));\n",
        "\n",
        "theta_1 = (B+np.sqrt(B**2+4*A*B))/2;\n",
        "theta_2 = (B-np.sqrt(B**2+4*A*B))/2;\n",
        "\n",
        "C_1 = (-(T_in-T_e+g_e/A)*theta_2*np.exp(theta_2*h)-g_e)/(theta_1*np.exp(theta_1*h)-theta_2*np.exp(theta_2*h));\n",
        "C_2 = ((T_in-T_e+g_e/A)*theta_1*np.exp(theta_1*h)+g_e)/(theta_1*np.exp(theta_1*h)-theta_2*np.exp(theta_2*h))\n",
        "\n",
        "\n",
        "Td = np.array([1])\n",
        "Ta = np.array([])\n",
        "Tg = np.array([])\n",
        "\n",
        "for x in range(0,h,1):\n",
        "    Td_t = [C_1*np.exp(theta_1*x)+C_2*np.exp(theta_2*x)+g_e*x+T_e-g_e/A]\n",
        "    Td=np.concatenate((Td,Td_t),axis=0)\n",
        "\n",
        "    Ta_t = [(1+theta_1/A)*C_1*np.exp(theta_1*x)+(1+theta_2/A)*C_2*np.exp(theta_2*x)+g_e*x+T_e]\n",
        "    Ta=np.concatenate((Ta,Ta_t),axis=0)\n",
        "\n",
        "    Tg_t = [g_e*x+T_e]\n",
        "    Tg=np.concatenate((Tg,Tg_t),axis=0)\n",
        "\n",
        "\n",
        "plt.figure(1)\n",
        "plt.plot(Td,range(-1,-len(Td)-1,-1),'r')\n",
        "plt.plot(Ta,range(-1,-len(Ta)-1,-1),'b')\n",
        "plt.plot(Tg,range(-1,-len(Tg)-1,-1),'k')\n",
        "plt.grid(color='k')\n",
        "plt.legend(('temperature in DS','temperature in annulus','geothermal gradient'))\n"
      ],
      "execution_count": 0,
      "outputs": [
        {
          "output_type": "execute_result",
          "data": {
            "text/plain": [
              "<matplotlib.legend.Legend at 0x7f4a140d3950>"
            ]
          },
          "metadata": {
            "tags": []
          },
          "execution_count": 1
        },
        {
          "output_type": "display_data",
          "data": {
            "image/png": "[encoded data removed]",
            "text/plain": [
              "<Figure size 432x288 with 1 Axes>"
            ]
          },
          "metadata": {
            "tags": [],
            "needs_background": "light"
          }
        }
      ]
    },
    {
      "cell_type": "code",
      "metadata": {
        "id": "Iiur1XoKgab5",
        "colab_type": "code",
        "colab": {}
      },
      "source": [
        ""
      ],
      "execution_count": 0,
      "outputs": []
    }
  ]
}