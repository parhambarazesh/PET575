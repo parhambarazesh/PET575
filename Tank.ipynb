{
  "nbformat": 4,
  "nbformat_minor": 0,
  "metadata": {
    "kernelspec": {
      "display_name": "Python 3",
      "language": "python",
      "name": "python3"
    },
    "language_info": {
      "codemirror_mode": {
        "name": "ipython",
        "version": 3
      },
      "file_extension": ".py",
      "mimetype": "text/x-python",
      "name": "python",
      "nbconvert_exporter": "python",
      "pygments_lexer": "ipython3",
      "version": "3.7.3"
    },
    "colab": {
      "name": "Tank.ipynb",
      "provenance": [],
      "include_colab_link": true
    }
  },
  "cells": [
    {
      "cell_type": "markdown",
      "metadata": {
        "id": "view-in-github",
        "colab_type": "text"
      },
      "source": [
        "<a href=\"https://colab.research.google.com/github/parhambarazesh/PET575/blob/master/Tank.ipynb\" target=\"_parent\"><img src=\"https://colab.research.google.com/assets/colab-badge.svg\" alt=\"Open In Colab\"/></a>"
      ]
    },
    {
      "cell_type": "code",
      "metadata": {
        "id": "SHBRYwkPlli0",
        "colab_type": "code",
        "colab": {},
        "outputId": "af5c0c45-b18e-4a82-a560-07ce27fb0af3"
      },
      "source": [
        "import numpy as np\n",
        "import matplotlib.pyplot as plt\n",
        "%matplotlib inline\n",
        "\n",
        "Ts=1\n",
        "Tf=500\n",
        "\n",
        "qinn = 0.45 # [m3/s]\n",
        "h=2\n",
        "A=4\n",
        "rho=1000\n",
        "Kv=0.12\n",
        "g=9.81\n",
        "z=1 #Åpning ut\n",
        "delta_z=0\n",
        "harray =np.array([0])\n",
        "\n",
        "qut=z*Kv*np.sqrt(g*h)\n",
        "\n",
        "for i in range(0,Tf,Ts):\n",
        "    #change flow rate in\n",
        "    if i > 200 and i<=350:\n",
        "        qinn = 0.500\n",
        "\n",
        "    if i > 350:\n",
        "        qinn = 0.200\n",
        "    \n",
        "    #simulate\n",
        "    deltah=(1/A)*(qinn-qut)\n",
        "    h=h+deltah*Ts\n",
        "    \n",
        "    if h<=0:\n",
        "        h=np.array([0])\n",
        "\n",
        "    if h>2:\n",
        "        h=np.array([2])\n",
        "\n",
        "    qut=z*Kv*np.sqrt(g*h)\n",
        "    \n",
        "    harray=np.concatenate([harray,np.array([h])])\n",
        "\n",
        "harray=np.delete(harray,0)\n",
        "\n",
        "plt.figure(1)\n",
        "plt.plot(harray)\n",
        "plt.xlabel('Time [s]')\n",
        "plt.ylabel('Tank level [m]')\n",
        "plt.title('Tank level when changing flow in')\n",
        "plt.grid(color='k')"
      ],
      "execution_count": 0,
      "outputs": [
        {
          "output_type": "display_data",
          "data": {
            "image/png": "[encoded data removed]",
            "text/plain": [
              "<Figure size 432x288 with 1 Axes>"
            ]
          },
          "metadata": {
            "tags": [],
            "needs_background": "light"
          }
        }
      ]
    },
    {
      "cell_type": "code",
      "metadata": {
        "id": "94TkZbk9lli5",
        "colab_type": "code",
        "colab": {}
      },
      "source": [
        ""
      ],
      "execution_count": 0,
      "outputs": []
    }
  ]
}