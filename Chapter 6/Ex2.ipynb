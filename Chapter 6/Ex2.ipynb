{
  "nbformat": 4,
  "nbformat_minor": 0,
  "metadata": {
    "kernelspec": {
      "display_name": "Python 3",
      "language": "python",
      "name": "python3"
    },
    "language_info": {
      "codemirror_mode": {
        "name": "ipython",
        "version": 3
      },
      "file_extension": ".py",
      "mimetype": "text/x-python",
      "name": "python",
      "nbconvert_exporter": "python",
      "pygments_lexer": "ipython3",
      "version": "3.7.3"
    },
    "colab": {
      "name": "Ex2.ipynb",
      "provenance": [],
      "include_colab_link": true
    }
  },
  "cells": [
    {
      "cell_type": "markdown",
      "metadata": {
        "id": "view-in-github",
        "colab_type": "text"
      },
      "source": [
        "<a href=\"https://colab.research.google.com/github/parhambarazesh/PET575/blob/master/Ex2.ipynb\" target=\"_parent\"><img src=\"https://colab.research.google.com/assets/colab-badge.svg\" alt=\"Open In Colab\"/></a>"
      ]
    },
    {
      "cell_type": "code",
      "metadata": {
        "id": "ZnwQKGHDj1a8",
        "colab_type": "code",
        "colab": {},
        "outputId": "1b2aeaff-3c1a-4657-d57b-7ce722eac500"
      },
      "source": [
        "import numpy as np\n",
        "import matplotlib.pyplot as plt\n",
        "import math\n",
        "%matplotlib inline\n",
        "\n",
        "# system parameters\n",
        "m=1            #mass\n",
        "k=1            #spring constant\n",
        "c=2           #damping constant\n",
        "\n",
        "# initial conditions\n",
        "x0=1            #initial displacement\n",
        "v0=0            #initial velocity\n",
        "\n",
        "#  frequency\n",
        "wn=np.sqrt(k/m)\n",
        "xi=c/(2*m*wn)\n",
        "wd=np.sqrt(1-xi**2)*wn\n",
        "\n",
        "# simulation\n",
        "total=100          #total simulation time\n",
        "\n",
        "x=np.zeros(total)\n",
        "for i in range(1,total+1):\n",
        "    if xi<1:             #undamping system\n",
        "        X=np.sqrt(x0**2+(v0/wn)**2)\n",
        "        phi=math.atan(v0/(x0*wn))\n",
        "        x[i-1]=X*np.exp(-xi*wn*i)*np.sin(wd*i+phi)\n",
        "    elif xi==1:        #critical damping system\n",
        "        x[i-1]=np.exp(-wn*i)*((v0+wn*x0)*i+x0)\n",
        "    elif xi>1:         #overdamping system\n",
        "        wd1=np/np.sqrt(xi**2-1)*wn\n",
        "        c1=-(v0+(-xi*wn-wd1)*x0)/(2*wd1)\n",
        "        c2=x0-c1\n",
        "        x[i-1]=c1*np.exp(-xi*wn*i+wd1*i)+c2*np.exp(-xi*wn*i-wd1*i)\n",
        "\n",
        "plt.figure(1)\n",
        "plt.plot(range(1,total+1),x)\n",
        "plt.grid(color='k')\n",
        "plt.legend('displacement')\n",
        "plt.xlabel('time')\n",
        "plt.ylabel('displacement')"
      ],
      "execution_count": 0,
      "outputs": [
        {
          "output_type": "execute_result",
          "data": {
            "text/plain": [
              "Text(0, 0.5, 'displacement')"
            ]
          },
          "metadata": {
            "tags": []
          },
          "execution_count": 26
        },
        {
          "output_type": "display_data",
          "data": {
            "image/png": "[encoded data removed]",
            "text/plain": [
              "<Figure size 432x288 with 1 Axes>"
            ]
          },
          "metadata": {
            "tags": [],
            "needs_background": "light"
          }
        }
      ]
    },
    {
      "cell_type": "code",
      "metadata": {
        "id": "HsyveDJrj1bC",
        "colab_type": "code",
        "colab": {}
      },
      "source": [
        ""
      ],
      "execution_count": 0,
      "outputs": []
    }
  ]
}
