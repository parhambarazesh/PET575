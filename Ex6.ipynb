{
  "nbformat": 4,
  "nbformat_minor": 0,
  "metadata": {
    "kernelspec": {
      "display_name": "Python 3",
      "language": "python",
      "name": "python3"
    },
    "language_info": {
      "codemirror_mode": {
        "name": "ipython",
        "version": 3
      },
      "file_extension": ".py",
      "mimetype": "text/x-python",
      "name": "python",
      "nbconvert_exporter": "python",
      "pygments_lexer": "ipython3",
      "version": "3.7.3"
    },
    "colab": {
      "name": "Ex6.ipynb",
      "provenance": [],
      "include_colab_link": true
    }
  },
  "cells": [
    {
      "cell_type": "markdown",
      "metadata": {
        "id": "view-in-github",
        "colab_type": "text"
      },
      "source": [
        "<a href=\"https://colab.research.google.com/github/parhambarazesh/PET575/blob/master/Ex6.ipynb\" target=\"_parent\"><img src=\"https://colab.research.google.com/assets/colab-badge.svg\" alt=\"Open In Colab\"/></a>"
      ]
    },
    {
      "cell_type": "code",
      "metadata": {
        "id": "KU5pKX6lkD2V",
        "colab_type": "code",
        "colab": {},
        "outputId": "41d6ac31-391a-45ff-9030-4acdb010da91"
      },
      "source": [
        "import numpy as np\n",
        "import matplotlib.pyplot as plt\n",
        "%matplotlib inline\n",
        "\n",
        "M=np.array([[2,0],[0,1]])\n",
        "K=np.array([[9,-3],[-3,3]])\n",
        "\n",
        "omega=3\n",
        "omega=3/np.sqrt(2)\n",
        "# omega=np.sqrt(6)\n",
        "\n",
        "F0=np.array([0,2])\n",
        "\n",
        "x0=2/((6-omega**2)*(3-2*omega**2))*np.array([[6],[2*(9-2*omega**2)]])/2\n",
        "x0=np.array([1,1])\n",
        "v0=np.array([0,0])\n",
        "\n",
        "total=12\n",
        "\n",
        "from scipy.linalg import eigh\n",
        "\n",
        "w,Phi = eigh(K, M, eigvals_only=False)\n",
        "Phi=-Phi\n",
        "w=np.array([[w[0],0],[0,w[1]]])\n",
        "w=np.sqrt(w)\n",
        "\n",
        "M_B=np.matmul(np.matmul(Phi.transpose(),M),Phi)\n",
        "K_B=np.matmul(np.matmul(Phi.transpose(),K),Phi)\n",
        "\n",
        "diag=np.sqrt(K_B)\n",
        "wd1=diag[0][0]\n",
        "wd2=diag[1][1]\n",
        "wd=np.array([wd1,wd2])\n",
        "\n",
        "x0_n=np.matmul(np.linalg.inv(Phi),x0)\n",
        "v0_n=np.matmul(np.linalg.inv(Phi),v0)\n",
        "\n",
        "G_n=np.matmul(Phi.transpose(),F0)\n",
        "A1=np.array([0,0])\n",
        "A2=np.array([G_n[0]/(K_B[0][0]-omega**2),G_n[1]/(K_B[1][1]-omega**2)])\n",
        "\n",
        "B=x0_n-A2\n",
        "A=np.divide(v0_n,wd)\n",
        "\n",
        "x1=[]\n",
        "x2=[]\n",
        "\n",
        "for i in np.arange(0,total,0.1):\n",
        "    temp1=[Phi[0][0]*(B[0]*np.cos(wd[0]*i)+A2[0]*np.cos(omega*i))+Phi[0][1]*(B[1]*np.cos(wd[1]*i)+A2[1]*np.cos(omega*i))]\n",
        "    x1=np.concatenate((x1,temp1),axis=0)\n",
        "    #x1=[x1,temp1]\n",
        "    #x1=[x1;temp1]\n",
        "    temp2=[Phi[1][0]*(B[0]*np.cos(wd[0]*i)+A2[0]*np.cos(omega*i))+Phi[1][1]*(B[1]*np.cos(wd[1]*i)+A2[1]*np.cos(omega*i))]\n",
        "    #x2=[x2;temp2]\n",
        "    x2=np.concatenate((x2,temp2),axis=0)\n",
        "\n",
        "plt.figure(1)\n",
        "plt.plot(x1,'r')\n",
        "plt.plot(x2,'b')"
      ],
      "execution_count": 0,
      "outputs": [
        {
          "output_type": "execute_result",
          "data": {
            "text/plain": [
              "[<matplotlib.lines.Line2D at 0x17032068b38>]"
            ]
          },
          "metadata": {
            "tags": []
          },
          "execution_count": 215
        },
        {
          "output_type": "display_data",
          "data": {
            "image/png": "[encoded data removed]",
            "text/plain": [
              "<Figure size 432x288 with 1 Axes>"
            ]
          },
          "metadata": {
            "tags": [],
            "needs_background": "light"
          }
        }
      ]
    },
    {
      "cell_type": "code",
      "metadata": {
        "id": "5VSoXQyvkD2Z",
        "colab_type": "code",
        "colab": {}
      },
      "source": [
        ""
      ],
      "execution_count": 0,
      "outputs": []
    }
  ]
}