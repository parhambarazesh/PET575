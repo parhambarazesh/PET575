{
  "nbformat": 4,
  "nbformat_minor": 0,
  "metadata": {
    "kernelspec": {
      "display_name": "Python 3",
      "language": "python",
      "name": "python3"
    },
    "language_info": {
      "codemirror_mode": {
        "name": "ipython",
        "version": 3
      },
      "file_extension": ".py",
      "mimetype": "text/x-python",
      "name": "python",
      "nbconvert_exporter": "python",
      "pygments_lexer": "ipython3",
      "version": "3.7.3"
    },
    "colab": {
      "name": "Ex5.ipynb",
      "provenance": [],
      "include_colab_link": true
    }
  },
  "cells": [
    {
      "cell_type": "markdown",
      "metadata": {
        "id": "view-in-github",
        "colab_type": "text"
      },
      "source": [
        "<a href=\"https://colab.research.google.com/github/parhambarazesh/PET575/blob/master/Ex5.ipynb\" target=\"_parent\"><img src=\"https://colab.research.google.com/assets/colab-badge.svg\" alt=\"Open In Colab\"/></a>"
      ]
    },
    {
      "cell_type": "code",
      "metadata": {
        "id": "5FSgXjfrir_h",
        "colab_type": "code",
        "colab": {},
        "outputId": "5afb56ee-1e72-44de-8e28-054b837175d1"
      },
      "source": [
        "import numpy as np\n",
        "import matplotlib.pyplot as plt\n",
        "%matplotlib inline\n",
        "\n",
        "#Constants in the model \n",
        "g  = 9.81            #  Gravity [m/s^2]      \n",
        "e  = 0.0015          #  Absolute roughness in mm for plastic pipe\n",
        "D  = 24              #  Inner pipe diameter [mm] \n",
        "D1 = D/1000          #  Inner pipe diameter [m]\n",
        "A  = 0.25*np.pi*D1**2   #  Pipe crossection [m^2]\n",
        "L  = 3.5             #  Lengt between horisontal diff sensors [m]\n",
        "h  = 3.5             #  Lengt between vertical diff sensors [m]\n",
        " \n",
        "Q  = np.arange(1,501)           #  Flowrate [l/min]\n",
        "Q1 = Q/60000         #  Flowrate [m^3/s]\n",
        "V  = Q1/A            #  Average fluid velocity  \n",
        " \n",
        "visc  = 1               #  Viscosity [cP] \n",
        "visc1 = visc/100        #  Viscosity [Pa·s]\n",
        "rho  = 1000             # Fluid density [kg/m^3]\n",
        " \n",
        " \n",
        "Re = ((rho*V*D1)/visc1)   #   Reynold number\n",
        "\n",
        "f=np.zeros(len(Re))\n",
        "for i in range(len(Re)):\n",
        "    f[i]=64/Re[i] #laminar flow\n",
        "else:\n",
        "    f[i]=(1/(-1.8*np.log(((e/D)/3.7)**1.11+6.9/Re[i])))**2 #Turbulent flow\n",
        "\n",
        "    \n",
        "plt.figure (1)\n",
        "plt.subplot(5,1,1)\n",
        "plt.plot(Q,Re)\n",
        "plt.xlabel('Flowrate [l/min]')\n",
        "plt.ylabel('Reynolds number')\n",
        "plt.title(['flow regime '+str(visc)+' [cP]'])\n",
        "\n",
        "plt.subplot(5,1,3)\n",
        "plt.plot(Q,f)\n",
        "plt.xlabel('Flowrate [l/min]')\n",
        "plt.ylabel('Friction factor')\n",
        " \n",
        "plt.subplot(5,1,5)\n",
        "plt.plot(Re,f)\n",
        "plt.xlabel('Re')\n",
        "plt.ylabel('Friction factor')"
      ],
      "execution_count": 0,
      "outputs": [
        {
          "output_type": "execute_result",
          "data": {
            "text/plain": [
              "Text(0, 0.5, 'Friction factor')"
            ]
          },
          "metadata": {
            "tags": []
          },
          "execution_count": 40
        },
        {
          "output_type": "display_data",
          "data": {
            "image/png": "[encoded data removed]",
            "text/plain": [
              "<Figure size 432x288 with 3 Axes>"
            ]
          },
          "metadata": {
            "tags": [],
            "needs_background": "light"
          }
        }
      ]
    },
    {
      "cell_type": "code",
      "metadata": {
        "id": "2ZVafIbdir_m",
        "colab_type": "code",
        "colab": {}
      },
      "source": [
        ""
      ],
      "execution_count": 0,
      "outputs": []
    }
  ]
}
