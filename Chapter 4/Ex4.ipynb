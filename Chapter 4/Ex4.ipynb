{
  "nbformat": 4,
  "nbformat_minor": 0,
  "metadata": {
    "kernelspec": {
      "display_name": "Python 3",
      "language": "python",
      "name": "python3"
    },
    "language_info": {
      "codemirror_mode": {
        "name": "ipython",
        "version": 3
      },
      "file_extension": ".py",
      "mimetype": "text/x-python",
      "name": "python",
      "nbconvert_exporter": "python",
      "pygments_lexer": "ipython3",
      "version": "3.7.3"
    },
    "colab": {
      "name": "Ex4.ipynb",
      "provenance": [],
      "include_colab_link": true
    }
  },
  "cells": [
    {
      "cell_type": "markdown",
      "metadata": {
        "id": "view-in-github",
        "colab_type": "text"
      },
      "source": [
        "<a href=\"https://colab.research.google.com/github/parhambarazesh/PET575/blob/master/Ex4.ipynb\" target=\"_parent\"><img src=\"https://colab.research.google.com/assets/colab-badge.svg\" alt=\"Open In Colab\"/></a>"
      ]
    },
    {
      "cell_type": "code",
      "metadata": {
        "id": "3sRjQ85NgU3l",
        "colab_type": "code",
        "colab": {},
        "outputId": "f88168b2-a0df-4dc1-e7d0-09686d9cf898"
      },
      "source": [
        "import numpy as np\n",
        "import matplotlib.pyplot as plt\n",
        "%matplotlib inline\n",
        "\n",
        "Ts=1\n",
        "Tf=100\n",
        "\n",
        "h=np.array([0])\n",
        "\n",
        "qin=30\n",
        "qut=12\n",
        "A=50\n",
        "harray=np.array([])\n",
        "\n",
        "for i in np.arange(0.1,Tf,Ts):\n",
        "    if i>20 and i<=40:\n",
        "        qin=0\n",
        "    elif i>40 and i<=50:\n",
        "        qin=30\n",
        "    elif i>50 and i<=70:\n",
        "        qin=0\n",
        "    elif i>70 and i<=80:\n",
        "        qin=30\n",
        "    elif i>80:\n",
        "        qin=0\n",
        "    #simulate\n",
        "    deltah=(1/A)*(qin-qut)\n",
        "    h=h+deltah*Ts\n",
        "    \n",
        "    if h<=0:\n",
        "        h=np.array([0])\n",
        "\n",
        "    harray=np.concatenate((harray,h),axis=0)\n",
        "\n",
        "h_max=max(harray)\n",
        "time_h=list(harray).index(h_max)\n",
        "\n",
        "plt.figure(1)\n",
        "plt.plot(harray)\n",
        "plt.plot(time_h,h_max,'ro')\n",
        "plt.xlabel('Time [s]')\n",
        "plt.ylabel('Tank level [m]')\n",
        "plt.title('Tank level when changing flow in')\n",
        "plt.grid(color='k')\n",
        "plt.plot([40-1,50-1,70-1,80-1],[2.4,6,1.2,4.8],'*')"
      ],
      "execution_count": 0,
      "outputs": [
        {
          "output_type": "execute_result",
          "data": {
            "text/plain": [
              "[<matplotlib.lines.Line2D at 0x1f84c2ac8d0>]"
            ]
          },
          "metadata": {
            "tags": []
          },
          "execution_count": 67
        },
        {
          "output_type": "display_data",
          "data": {
            "image/png": "[encoded data removed]",
            "text/plain": [
              "<Figure size 432x288 with 1 Axes>"
            ]
          },
          "metadata": {
            "tags": [],
            "needs_background": "light"
          }
        }
      ]
    },
    {
      "cell_type": "code",
      "metadata": {
        "id": "0rXdG2bigU3q",
        "colab_type": "code",
        "colab": {}
      },
      "source": [
        ""
      ],
      "execution_count": 0,
      "outputs": []
    }
  ]
}
