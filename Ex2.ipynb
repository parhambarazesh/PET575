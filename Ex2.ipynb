{
  "nbformat": 4,
  "nbformat_minor": 0,
  "metadata": {
    "kernelspec": {
      "display_name": "Python 3",
      "language": "python",
      "name": "python3"
    },
    "language_info": {
      "codemirror_mode": {
        "name": "ipython",
        "version": 3
      },
      "file_extension": ".py",
      "mimetype": "text/x-python",
      "name": "python",
      "nbconvert_exporter": "python",
      "pygments_lexer": "ipython3",
      "version": "3.7.4"
    },
    "colab": {
      "name": "Ex2.ipynb",
      "provenance": [],
      "include_colab_link": true
    }
  },
  "cells": [
    {
      "cell_type": "markdown",
      "metadata": {
        "id": "view-in-github",
        "colab_type": "text"
      },
      "source": [
        "<a href=\"https://colab.research.google.com/github/parhambarazesh/PET575/blob/master/Ex2.ipynb\" target=\"_parent\"><img src=\"https://colab.research.google.com/assets/colab-badge.svg\" alt=\"Open In Colab\"/></a>"
      ]
    },
    {
      "cell_type": "code",
      "metadata": {
        "id": "IQr0PQbpcnow",
        "colab_type": "code",
        "colab": {},
        "outputId": "46d45dfe-0f69-4583-ecf7-28336d0e0342"
      },
      "source": [
        "import numpy as np\n",
        "import math\n",
        "m=2\n",
        "g=9.8\n",
        "c=0.1\n",
        "T=4\n",
        "Ts=0.01\n",
        "\n",
        "t=np.arange(0,T+0.1,0.1)\n",
        "V_a=g*m/c*(1-np.exp(-c/m*t))\n",
        "\n",
        "V_n=np.array([0])\n",
        "temp=V_n[0]\n",
        "\n",
        "for i in np.arange(Ts, T, Ts):\n",
        "    temp = temp+(g-c/m*temp)*Ts\n",
        "    V_n=np.append(V_n,temp)\n",
        "\n",
        "import matplotlib.pyplot as plt\n",
        "plt.plot(t,V_a,'b')\n",
        "plt.plot(np.arange(0,T,Ts),V_n,'ro')\n",
        "\n",
        "plt.legend(['True Solution','Euler'])"
      ],
      "execution_count": 0,
      "outputs": [
        {
          "output_type": "execute_result",
          "data": {
            "text/plain": [
              "<matplotlib.legend.Legend at 0x7f55e724fd90>"
            ]
          },
          "metadata": {
            "tags": []
          },
          "execution_count": 3
        },
        {
          "output_type": "display_data",
          "data": {
            "image/png": "[encoded data removed]",
            "text/plain": [
              "<Figure size 432x288 with 1 Axes>"
            ]
          },
          "metadata": {
            "tags": [],
            "needs_background": "light"
          }
        }
      ]
    },
    {
      "cell_type": "code",
      "metadata": {
        "id": "RTuOigFycno0",
        "colab_type": "code",
        "colab": {}
      },
      "source": [
        ""
      ],
      "execution_count": 0,
      "outputs": []
    }
  ]
}