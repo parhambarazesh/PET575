{
  "nbformat": 4,
  "nbformat_minor": 0,
  "metadata": {
    "kernelspec": {
      "display_name": "Python 3",
      "language": "python",
      "name": "python3"
    },
    "language_info": {
      "codemirror_mode": {
        "name": "ipython",
        "version": 3
      },
      "file_extension": ".py",
      "mimetype": "text/x-python",
      "name": "python",
      "nbconvert_exporter": "python",
      "pygments_lexer": "ipython3",
      "version": "3.7.3"
    },
    "colab": {
      "name": "Ex2.ipynb",
      "provenance": [],
      "include_colab_link": true
    }
  },
  "cells": [
    {
      "cell_type": "markdown",
      "metadata": {
        "id": "view-in-github",
        "colab_type": "text"
      },
      "source": [
        "<a href=\"https://colab.research.google.com/github/parhambarazesh/PET575/blob/master/Ex2.ipynb\" target=\"_parent\"><img src=\"https://colab.research.google.com/assets/colab-badge.svg\" alt=\"Open In Colab\"/></a>"
      ]
    },
    {
      "cell_type": "markdown",
      "metadata": {
        "id": "QgUY5xMlV7iy",
        "colab_type": "text"
      },
      "source": [
        "Import the required libraries. here we need only numpy."
      ]
    },
    {
      "cell_type": "code",
      "metadata": {
        "id": "56IHrwrRV7i0",
        "colab_type": "code",
        "colab": {}
      },
      "source": [
        "import numpy as np"
      ],
      "execution_count": 0,
      "outputs": []
    },
    {
      "cell_type": "markdown",
      "metadata": {
        "id": "dacfbtH2V7i3",
        "colab_type": "text"
      },
      "source": [
        "Create numpy arrays and practice the inverse calculation."
      ]
    },
    {
      "cell_type": "code",
      "metadata": {
        "id": "3LO0beDZV7i4",
        "colab_type": "code",
        "colab": {},
        "outputId": "c7cbd98b-011d-45e5-93ec-03a7a9e079b8"
      },
      "source": [
        "A=np.array([[1,2],[3,4]])\n",
        "b=np.array([5,6])\n",
        "x=np.matmul(np.linalg.inv(A),b)\n",
        "x"
      ],
      "execution_count": 0,
      "outputs": [
        {
          "output_type": "execute_result",
          "data": {
            "text/plain": [
              "array([-4. ,  4.5])"
            ]
          },
          "metadata": {
            "tags": []
          },
          "execution_count": 26
        }
      ]
    },
    {
      "cell_type": "code",
      "metadata": {
        "id": "yPEUzPPbV7i6",
        "colab_type": "code",
        "colab": {}
      },
      "source": [
        ""
      ],
      "execution_count": 0,
      "outputs": []
    }
  ]
}