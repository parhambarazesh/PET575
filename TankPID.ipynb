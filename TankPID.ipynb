{
  "nbformat": 4,
  "nbformat_minor": 0,
  "metadata": {
    "kernelspec": {
      "display_name": "Python 3",
      "language": "python",
      "name": "python3"
    },
    "language_info": {
      "codemirror_mode": {
        "name": "ipython",
        "version": 3
      },
      "file_extension": ".py",
      "mimetype": "text/x-python",
      "name": "python",
      "nbconvert_exporter": "python",
      "pygments_lexer": "ipython3",
      "version": "3.7.3"
    },
    "colab": {
      "name": "TankPID.ipynb",
      "provenance": [],
      "include_colab_link": true
    }
  },
  "cells": [
    {
      "cell_type": "markdown",
      "metadata": {
        "id": "view-in-github",
        "colab_type": "text"
      },
      "source": [
        "<a href=\"https://colab.research.google.com/github/parhambarazesh/PET575/blob/master/TankPID.ipynb\" target=\"_parent\"><img src=\"https://colab.research.google.com/assets/colab-badge.svg\" alt=\"Open In Colab\"/></a>"
      ]
    },
    {
      "cell_type": "code",
      "metadata": {
        "id": "6vy2oR8Wl18-",
        "colab_type": "code",
        "colab": {},
        "outputId": "9d1d8519-f52b-463e-a81d-da8f3c0906dd"
      },
      "source": [
        "import numpy as np\n",
        "import matplotlib.pyplot as plt\n",
        "%matplotlib inline\n",
        "\n",
        "Ts=1\n",
        "Tf=2000\n",
        "qinn = 0.03333# [m3/s] (2000 l/min)\n",
        "h=2#[m]\n",
        "A=4 #[ m]\n",
        "rho=1000\n",
        "Kv=0.12\n",
        "g=9.81\n",
        "z=0.12 #Åpning ut\n",
        "\n",
        "delta_z=0\n",
        "e=0\n",
        "\n",
        "# Only Implement PI controller\n",
        "Kp=4\n",
        "Ti = 0.3\n",
        "\n",
        "qut=Kv*np.sqrt(g*h)\n",
        "\n",
        "\n",
        "h_setp = 1.750\n",
        "h_setp_old = h_setp\n",
        "\n",
        "# min and max values\n",
        "h_max = 2\n",
        "h_min = 0\n",
        "z_max = 1\n",
        "z_min = 0\n",
        "qinn_max = 0.04\n",
        "qinn_min = 0\n",
        "\n",
        "# store the data\n",
        "h_ar =[0]\n",
        "h_setp_ar =[0]\n",
        "z_ar =[0]\n",
        "y_ar =[0]\n",
        "u_ar =[0]\n",
        "ufb_ar =[0]\n",
        "uff_ar =[0]\n",
        "ufr_ar =[0]\n",
        "\n",
        "qinn_ar = [0]\n",
        "qut_ar = [0]\n",
        "zff_ar = [0]\n",
        "zfr_ar = [0]\n",
        "\n",
        "#initial vaule of feedforward controller\n",
        "uff = 0\n",
        "ufr = 0\n",
        "\n",
        "for i in range(0,Tf,Ts):\n",
        "    #Update reference\n",
        "    if (i > 0.25*Tf) and (i < (0.25*Tf)+60):\n",
        "        h_setp = h_setp - 0.01\n",
        "    \n",
        "    #Update disturbance\n",
        "    if (i >= 0.5*Tf) and (i < 0.75*Tf):\n",
        "        qinn = 0.01667# [m3/s] (1000 l/min)\n",
        "    \n",
        "    if (i >= 0.75*Tf) and (i < (0.75*Tf)+60):\n",
        "        qinn = qinn+ 0.0002777# [m3/s] (ramp up by 1000\n",
        "    \n",
        "    if i >= ((0.75*Tf)+60):\n",
        "        qinn = 0.03333# [m3/s] (2000 l/min)\n",
        "    \n",
        "    # calculate z feed forward disturbance\n",
        "    zff = qinn/(Kv*np.sqrt(g*h_setp))\n",
        "    \n",
        "    #calculate z feed forward reference\n",
        "    zfr = (A*(h_setp_old-h_setp)/Ts)/(Kv*np.sqrt(rho*g*h_setp))\n",
        "    h_setp_old = h_setp\n",
        "    \n",
        "    #scale process variables to controller\n",
        "    r = ((h_setp-h_min)/h_max)*100.0 # reference\n",
        "    y = ((h-h_min)/h_max)*100.0 # controlled variabl\n",
        "    u = ((z-z_min)/z_max)*100.0 # manipulated varia\n",
        "    uff_new = ((zff-z_min)/z_max)*100.0 # manipulat\n",
        "    ufr_new = ((zfr-z_min)/z_max)*100.0 # manipulat\n",
        "    \n",
        "    #Store previous values\n",
        "    last_e = e\n",
        "    e=y-r #feedback error\n",
        "    ufb = u-uff-ufr\n",
        "    \n",
        "    #PI Controller\n",
        "    delta_u=Kp*(e-last_e)+(Ti*Ts)*e\n",
        "    ufb=ufb+delta_u\n",
        "    \n",
        "    uff = uff_new # comment update if ff dist is off\n",
        "    ufr = ufr_new # comment update if ff ref is off\n",
        "    \n",
        "    #PI controller+feed forward controller\n",
        "    u = ufb +uff + ufr #( feedback + ff dist + ff ref)\n",
        "    \n",
        "    if u<=0:\n",
        "        u=0\n",
        "\n",
        "    if u>100:\n",
        "        u=100\n",
        "    \n",
        "    #scale controller variables to process\n",
        "    z = z_min + z_max*(u/100.0)\n",
        "    \n",
        "    #simulere med ny regulatorsetting (z)\n",
        "    qut=z*Kv*np.sqrt(g*h)\n",
        "    deltah=(1/A)*(qinn*Ts-qut*Ts)\n",
        "    h=h+deltah\n",
        "    # verify min,max levels in tank\n",
        "    if h<=0:\n",
        "        h=0\n",
        "\n",
        "    if h>2:\n",
        "        h=2\n",
        "    \n",
        "    #store to arrays\n",
        "    h_ar=np.concatenate([h_ar,np.array([h])])\n",
        "    h_setp_ar=np.concatenate([h_setp_ar,np.array([h_setp])])\n",
        "    z_ar=np.concatenate([z_ar,np.array([z])])\n",
        "    zff_ar=np.concatenate([zff_ar,np.array([zff])])\n",
        "    zfr_ar=np.concatenate([zfr_ar,np.array([zfr])])\n",
        "    y_ar=np.concatenate([y_ar,np.array([y])])\n",
        "    u_ar=np.concatenate([u_ar,np.array([u])])\n",
        "    ufb_ar=np.concatenate([ufb_ar,np.array([ufb])])\n",
        "    uff_ar=np.concatenate([uff_ar,np.array([uff])])\n",
        "    ufr_ar=np.concatenate([ufr_ar,np.array([ufr])])\n",
        "    qinn_ar=np.concatenate([qinn_ar,np.array([qinn])])\n",
        "    qut_ar=np.concatenate([qut_ar,np.array([qut])])\n",
        "\n",
        "h_ar=np.delete(h_ar,0)\n",
        "h_setp_ar=np.delete(h_setp_ar,0)\n",
        "z_ar=np.delete(z_ar,0)\n",
        "zff_ar=np.delete(zff_ar,0)\n",
        "zfr_ar=np.delete(zfr_ar,0)\n",
        "y_ar=np.delete(y_ar,0)\n",
        "u_ar=np.delete(u_ar,0)\n",
        "ufb_ar=np.delete(ufb_ar,0)\n",
        "uff_ar=np.delete(uff_ar,0)\n",
        "ufr_ar=np.delete(ufr_ar,0)\n",
        "qinn_ar=np.delete(qinn_ar,0)\n",
        "qut_ar=np.delete(qut_ar,0)\n",
        "\n",
        "\n",
        "plt.figure(1)\n",
        "plt.plot(np.arange(0,Tf,Ts),h_ar,'b')\n",
        "plt.plot(np.arange(0,Tf,Ts),h_setp_ar,'r')\n",
        "plt.legend('Actual','Reference')\n",
        "plt.xlabel('Time [s]')\n",
        "plt.ylabel('Tank level [m]')\n",
        "plt.title('Tank level with PID Controller')\n",
        "plt.grid(color='k')\n",
        "\n",
        "\n",
        "plt.figure(2)\n",
        "plt.plot(y_ar)\n",
        "plt.xlabel('Time [s]')\n",
        "plt.ylabel('Tank level [%]')\n",
        "plt.title('Tank level with PID Controller')\n",
        "plt.grid(color='k')\n",
        "\n",
        "plt.figure(3)\n",
        "plt.plot(np.arange(0,Tf,Ts),qinn_ar,'b')\n",
        "plt.plot(np.arange(0,Tf,Ts),qut_ar,'r')\n",
        "plt.legend(['q in','q out'])\n",
        "plt.xlabel('Time [s]')\n",
        "plt.ylabel('Flow rate [m3/s]')\n",
        "plt.title('Flow rate')\n",
        "plt.grid(color='k')"
      ],
      "execution_count": 0,
      "outputs": [
        {
          "output_type": "display_data",
          "data": {
            "image/png": "[encoded data removed]",
            "text/plain": [
              "<Figure size 432x288 with 1 Axes>"
            ]
          },
          "metadata": {
            "tags": [],
            "needs_background": "light"
          }
        },
        {
          "output_type": "display_data",
          "data": {
            "image/png": "[encoded data removed]",
            "text/plain": [
              "<Figure size 432x288 with 1 Axes>"
            ]
          },
          "metadata": {
            "tags": [],
            "needs_background": "light"
          }
        },
        {
          "output_type": "display_data",
          "data": {
            "image/png": "[encoded data removed]",
            "text/plain": [
              "<Figure size 432x288 with 1 Axes>"
            ]
          },
          "metadata": {
            "tags": [],
            "needs_background": "light"
          }
        }
      ]
    },
    {
      "cell_type": "code",
      "metadata": {
        "id": "OKhdHTfel19C",
        "colab_type": "code",
        "colab": {}
      },
      "source": [
        ""
      ],
      "execution_count": 0,
      "outputs": []
    }
  ]
}