{
  "nbformat": 4,
  "nbformat_minor": 0,
  "metadata": {
    "kernelspec": {
      "display_name": "Python 3",
      "language": "python",
      "name": "python3"
    },
    "language_info": {
      "codemirror_mode": {
        "name": "ipython",
        "version": 3
      },
      "file_extension": ".py",
      "mimetype": "text/x-python",
      "name": "python",
      "nbconvert_exporter": "python",
      "pygments_lexer": "ipython3",
      "version": "3.7.3"
    },
    "colab": {
      "name": "Ex7.ipynb",
      "provenance": [],
      "include_colab_link": true
    }
  },
  "cells": [
    {
      "cell_type": "markdown",
      "metadata": {
        "id": "view-in-github",
        "colab_type": "text"
      },
      "source": [
        "<a href=\"https://colab.research.google.com/github/parhambarazesh/PET575/blob/master/Ex7.ipynb\" target=\"_parent\"><img src=\"https://colab.research.google.com/assets/colab-badge.svg\" alt=\"Open In Colab\"/></a>"
      ]
    },
    {
      "cell_type": "code",
      "metadata": {
        "id": "4x5m6BCoi1sK",
        "colab_type": "code",
        "colab": {}
      },
      "source": [
        "import numpy as np\n",
        "\n",
        "P1=1000#Horizontal differential pressure between sensor 1, 2 \n",
        "P2=197000#Vertical differential pressure between sensor 3, 4 \n",
        "g=9.8#Acceleration of gravity\n",
        "h=20#Vertical depth between sensor 3,4 \n",
        "l=30#Length between sensor\n",
        "q=1700/1000/60#flow rate\n",
        "D=0.2#Pipe inner diameter \n",
        "r=D/2#Pipe inner radius\n",
        "v=q/np.pi/r**2 #flow velocity\n",
        "e=10**-5#roughness\n",
        " \n",
        "#calculation of the density\n",
        "rho=(P2-P1)/g/h\n",
        " \n",
        "#calculation of the viscosity\n",
        " \n",
        "f= P1*D*2/l/v**2/rho #friction factor\n",
        " \n",
        "Re=64/f\n",
        " \n",
        "if Re>2000:\n",
        "    Re=6.9/(10**(-1/1.8/np.sqrt(f))-(e/D/3.7)**1.11)\n",
        "\n",
        " \n",
        "vis=v*rho*D/Re #viscosity\n"
      ],
      "execution_count": 0,
      "outputs": []
    },
    {
      "cell_type": "code",
      "metadata": {
        "id": "fXPBt477i1sQ",
        "colab_type": "code",
        "colab": {}
      },
      "source": [
        ""
      ],
      "execution_count": 0,
      "outputs": []
    }
  ]
}