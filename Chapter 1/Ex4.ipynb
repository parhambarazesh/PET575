{
  "nbformat": 4,
  "nbformat_minor": 0,
  "metadata": {
    "kernelspec": {
      "display_name": "Python 3",
      "language": "python",
      "name": "python3"
    },
    "language_info": {
      "codemirror_mode": {
        "name": "ipython",
        "version": 3
      },
      "file_extension": ".py",
      "mimetype": "text/x-python",
      "name": "python",
      "nbconvert_exporter": "python",
      "pygments_lexer": "ipython3",
      "version": "3.7.3"
    },
    "colab": {
      "name": "Ex4.ipynb",
      "provenance": [],
      "include_colab_link": true
    }
  },
  "cells": [
    {
      "cell_type": "markdown",
      "metadata": {
        "id": "view-in-github",
        "colab_type": "text"
      },
      "source": [
        "<a href=\"https://colab.research.google.com/github/parhambarazesh/PET575/blob/master/Ex4.ipynb\" target=\"_parent\"><img src=\"https://colab.research.google.com/assets/colab-badge.svg\" alt=\"Open In Colab\"/></a>"
      ]
    },
    {
      "cell_type": "markdown",
      "metadata": {
        "id": "rsr1e6Z-WFvR",
        "colab_type": "text"
      },
      "source": [
        "Import the required libraries. here we need only numpy."
      ]
    },
    {
      "cell_type": "code",
      "metadata": {
        "id": "E1x6J969WFvS",
        "colab_type": "code",
        "colab": {}
      },
      "source": [
        "import numpy as np"
      ],
      "execution_count": 0,
      "outputs": []
    },
    {
      "cell_type": "markdown",
      "metadata": {
        "id": "21rHYvNIWFvU",
        "colab_type": "text"
      },
      "source": [
        "Define the required functions f and bisec."
      ]
    },
    {
      "cell_type": "code",
      "metadata": {
        "id": "lMhuF7FhWFvV",
        "colab_type": "code",
        "colab": {}
      },
      "source": [
        "def f(x):\n",
        "    return 3*x**3-2*x**2+10*x-5\n",
        "\n",
        "def bisec(a,b):\n",
        "    if f(a)*f(b)>0:\n",
        "        print('Wrong choice');\n",
        "        return None\n",
        "    else:\n",
        "        err=np.abs(a-b);\n",
        "        while err>1e-7:\n",
        "            p=(a+b)/2;\n",
        "            if f(a)*f(p)<0:\n",
        "                b=p;\n",
        "            else:\n",
        "                a=p;\n",
        "            err=np.abs(a-b);\n",
        "            \n",
        "    return p"
      ],
      "execution_count": 0,
      "outputs": []
    },
    {
      "cell_type": "markdown",
      "metadata": {
        "id": "B0M-WDmXWFvW",
        "colab_type": "text"
      },
      "source": [
        "Call the bisec function with some predefined input values."
      ]
    },
    {
      "cell_type": "code",
      "metadata": {
        "id": "Dr4ux3XCWFvX",
        "colab_type": "code",
        "colab": {},
        "outputId": "931f34fa-a3c1-4219-b62d-97239185369b"
      },
      "source": [
        "a=-1;\n",
        "b=2;\n",
        "\n",
        "bisec(a,b)"
      ],
      "execution_count": 0,
      "outputs": [
        {
          "output_type": "execute_result",
          "data": {
            "text/plain": [
              "0.5121585428714752"
            ]
          },
          "metadata": {
            "tags": []
          },
          "execution_count": 29
        }
      ]
    },
    {
      "cell_type": "code",
      "metadata": {
        "id": "w5kU5xTiWFvZ",
        "colab_type": "code",
        "colab": {}
      },
      "source": [
        ""
      ],
      "execution_count": 0,
      "outputs": []
    }
  ]
}
