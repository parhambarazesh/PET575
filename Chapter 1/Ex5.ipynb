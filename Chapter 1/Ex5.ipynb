{
  "nbformat": 4,
  "nbformat_minor": 0,
  "metadata": {
    "kernelspec": {
      "display_name": "Python 3",
      "language": "python",
      "name": "python3"
    },
    "language_info": {
      "codemirror_mode": {
        "name": "ipython",
        "version": 3
      },
      "file_extension": ".py",
      "mimetype": "text/x-python",
      "name": "python",
      "nbconvert_exporter": "python",
      "pygments_lexer": "ipython3",
      "version": "3.7.3"
    },
    "colab": {
      "name": "Ex5.ipynb",
      "provenance": [],
      "include_colab_link": true
    }
  },
  "cells": [
    {
      "cell_type": "markdown",
      "metadata": {
        "id": "view-in-github",
        "colab_type": "text"
      },
      "source": [
        "<a href=\"https://colab.research.google.com/github/parhambarazesh/PET575/blob/master/Ex5.ipynb\" target=\"_parent\"><img src=\"https://colab.research.google.com/assets/colab-badge.svg\" alt=\"Open In Colab\"/></a>"
      ]
    },
    {
      "cell_type": "markdown",
      "metadata": {
        "id": "faE6MsvCWKJ2",
        "colab_type": "text"
      },
      "source": [
        "Import the required libraries. here we need numpy and pandas. Note that we read from excel using pandas library. There are different libraries with ability to read from excel files. You can choose whatever you want, however pandas is recommended."
      ]
    },
    {
      "cell_type": "code",
      "metadata": {
        "id": "lAE0LEWAWKJ6",
        "colab_type": "code",
        "colab": {}
      },
      "source": [
        "import numpy as np\n",
        "import pandas as pd"
      ],
      "execution_count": 0,
      "outputs": []
    },
    {
      "cell_type": "markdown",
      "metadata": {
        "id": "Ia9JMu_HWKJ8",
        "colab_type": "text"
      },
      "source": [
        "Set the row and col based on the location of the data stored in our excel file."
      ]
    },
    {
      "cell_type": "code",
      "metadata": {
        "id": "tjXBv-ikWKJ9",
        "colab_type": "code",
        "colab": {}
      },
      "source": [
        "row=np.array([[43,55],[81,93],[119,131],[157,169],[195,207],[233,245],[271,283]])\n",
        "col=np.array(['B','C','D','E','H'])"
      ],
      "execution_count": 0,
      "outputs": []
    },
    {
      "cell_type": "markdown",
      "metadata": {
        "id": "IJHUIHWXWKJ_",
        "colab_type": "text"
      },
      "source": [
        "open the excel file and store the whole data into a variable."
      ]
    },
    {
      "cell_type": "code",
      "metadata": {
        "id": "SuFVnFagWKJ_",
        "colab_type": "code",
        "colab": {}
      },
      "source": [
        "file = pd.ExcelFile('Rheodata.xlsx')"
      ],
      "execution_count": 0,
      "outputs": []
    },
    {
      "cell_type": "markdown",
      "metadata": {
        "id": "hiSi1Cj1WKKB",
        "colab_type": "text"
      },
      "source": [
        "Define pressure_data and index. as pressure data are not stored in the excel file cells, we create them manually. Also note that defining the index is a bit tricky and required some manipulation with pandas to know how the excel data are stored in the variable (file). It is not always exactly same as the input raw data!\n",
        "we will need the index to extract the data through the loop."
      ]
    },
    {
      "cell_type": "code",
      "metadata": {
        "id": "o9w3cMMrWKKB",
        "colab_type": "code",
        "colab": {}
      },
      "source": [
        "pressure_data=[40,80,120,160]\n",
        "index=[41,79,117,155,193,231,269]"
      ],
      "execution_count": 0,
      "outputs": []
    },
    {
      "cell_type": "markdown",
      "metadata": {
        "id": "G260g_qWWKKD",
        "colab_type": "text"
      },
      "source": [
        "write a loop to read from 4 different sheets each of which include 7 different set of data for Shear Stress, Shear Rate, Viscosity, rpm and Temperature. Note that define the pressure manually as it is not included in the cells. follow the comments for help."
      ]
    },
    {
      "cell_type": "code",
      "metadata": {
        "id": "zDI2SCbGWKKD",
        "colab_type": "code",
        "colab": {}
      },
      "source": [
        "for i in range(0,4):\n",
        "    #here we extract each sheet data and store the data in the variable (data).\n",
        "    data=file.parse(file.sheet_names[i])\n",
        "    #here we initialize the variable to be extracted as empty pandas series. why we choose series? with a bit of practice with\n",
        "    #pandas we find the way to read and write data into pandas dataframes. We need to define a dataframe to write it into the\n",
        "    #output files. Remember we are working with pandas to read/write in/to excel files. You are free to use any other library.\n",
        "    SS=pd.Series()\n",
        "    SR=pd.Series()\n",
        "    visc=pd.Series()\n",
        "    rpm=pd.Series()\n",
        "    temp=pd.Series()\n",
        "    #here we define a nested loop to read from 7 sets of data stored in the excel file. Note that in each iteration new series\n",
        "    #will be concatenated with the old series. as the output we will have a single series contain all the required data.\n",
        "    for j in range(0,7):\n",
        "        SS_old=data.iloc[index[j]:index[j]+13,1]\n",
        "        SR_old=data.iloc[index[j]:index[j]+13,2]\n",
        "        visc_old=data.iloc[index[j]:index[j]+13,3]\n",
        "        rpm_old=data.iloc[index[j]:index[j]+13,4]\n",
        "        temp_old=data.iloc[index[j]:index[j]+13,7]\n",
        "        \n",
        "        SS=pd.concat([SS,SS_old])\n",
        "        SR=pd.concat([SR,SR_old])\n",
        "        visc=pd.concat([visc,visc_old])\n",
        "        rpm=pd.concat([rpm,rpm_old])\n",
        "        temp=pd.concat([temp,temp_old])\n",
        "    #here we manually define pressure values.\n",
        "    pres=np.ones((91,))*pressure_data[i]\n",
        "    #here we define a dictionary from the extracted data and the corresponding name.\n",
        "    data = {'SS': SS, 'SR': SR,'visc':visc,'rpm':rpm,'temp':temp,'pressure':pres}\n",
        "    #here we create a dataframe from the dictionary defined previously.\n",
        "    df = pd.DataFrame(data)\n",
        "    #here we set the name of the file\n",
        "    filename='table'+str(i+1)+'.csv'\n",
        "    #here we write the dataframe df into the output file.\n",
        "    df.to_csv(filename,index=False)"
      ],
      "execution_count": 0,
      "outputs": []
    },
    {
      "cell_type": "code",
      "metadata": {
        "id": "CKqi2ZJ7WKKF",
        "colab_type": "code",
        "colab": {}
      },
      "source": [
        ""
      ],
      "execution_count": 0,
      "outputs": []
    }
  ]
}
