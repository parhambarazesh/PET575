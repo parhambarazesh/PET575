{
  "nbformat": 4,
  "nbformat_minor": 0,
  "metadata": {
    "kernelspec": {
      "display_name": "Python 3",
      "language": "python",
      "name": "python3"
    },
    "language_info": {
      "codemirror_mode": {
        "name": "ipython",
        "version": 3
      },
      "file_extension": ".py",
      "mimetype": "text/x-python",
      "name": "python",
      "nbconvert_exporter": "python",
      "pygments_lexer": "ipython3",
      "version": "3.7.4"
    },
    "colab": {
      "name": "Ex1.ipynb",
      "provenance": [],
      "collapsed_sections": [],
      "include_colab_link": true
    }
  },
  "cells": [
    {
      "cell_type": "markdown",
      "metadata": {
        "id": "view-in-github",
        "colab_type": "text"
      },
      "source": [
        "<a href=\"https://colab.research.google.com/github/parhambarazesh/PET575/blob/master/Ex1.ipynb\" target=\"_parent\"><img src=\"https://colab.research.google.com/assets/colab-badge.svg\" alt=\"Open In Colab\"/></a>"
      ]
    },
    {
      "cell_type": "markdown",
      "metadata": {
        "id": "OlwQVpE7RjSJ",
        "colab_type": "text"
      },
      "source": [
        "Import the required libraries. Here we need numpy and matplotlip. set inline to show the plots in the result."
      ]
    },
    {
      "cell_type": "code",
      "metadata": {
        "id": "usmWyqwURjTT",
        "colab_type": "code",
        "colab": {}
      },
      "source": [
        "import numpy as np\n",
        "import matplotlib.pyplot as plt\n",
        "%matplotlib inline"
      ],
      "execution_count": 0,
      "outputs": []
    },
    {
      "cell_type": "markdown",
      "metadata": {
        "id": "6Qp2xZe7RjTh",
        "colab_type": "text"
      },
      "source": [
        "define the plot variables (x,t) as arrays."
      ]
    },
    {
      "cell_type": "code",
      "metadata": {
        "id": "2GBEsPs5RjTk",
        "colab_type": "code",
        "colab": {}
      },
      "source": [
        "T=5;\n",
        "a=-1/T;\n",
        "\n",
        "x0=1;\n",
        "t=np.arange(0,26);\n",
        "x=np.exp(a*t)*x0;\n"
      ],
      "execution_count": 0,
      "outputs": []
    },
    {
      "cell_type": "markdown",
      "metadata": {
        "id": "4UhatjTYRjUF",
        "colab_type": "text"
      },
      "source": [
        "plot the defined x and t"
      ]
    },
    {
      "cell_type": "code",
      "metadata": {
        "id": "XNCJJKuCRjUH",
        "colab_type": "code",
        "outputId": "95ccdf98-98ce-46de-e860-dd4b73e81e09",
        "colab": {
          "base_uri": "https://localhost:8080/",
          "height": 312
        }
      },
      "source": [
        "plt.plot(t,x)\n",
        "plt.title(\"Simulation of x'=ax\")\n",
        "plt.grid(axis='both')\n",
        "plt.xlabel('time')\n",
        "plt.ylabel('x')"
      ],
      "execution_count": 3,
      "outputs": [
        {
          "output_type": "execute_result",
          "data": {
            "text/plain": [
              "Text(0, 0.5, 'x')"
            ]
          },
          "metadata": {
            "tags": []
          },
          "execution_count": 3
        },
        {
          "output_type": "display_data",
          "data": {
            "image/png": "[encoded data removed]",
            "text/plain": [
              "<Figure size 432x288 with 1 Axes>"
            ]
          },
          "metadata": {
            "tags": []
          }
        }
      ]
    },
    {
      "cell_type": "code",
      "metadata": {
        "id": "jcdjU3iTRjVe",
        "colab_type": "code",
        "colab": {}
      },
      "source": [
        ""
      ],
      "execution_count": 0,
      "outputs": []
    },
    {
      "cell_type": "code",
      "metadata": {
        "id": "qWCCI2G8RjV7",
        "colab_type": "code",
        "colab": {}
      },
      "source": [
        ""
      ],
      "execution_count": 0,
      "outputs": []
    }
  ]
}