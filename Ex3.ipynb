{
  "nbformat": 4,
  "nbformat_minor": 0,
  "metadata": {
    "kernelspec": {
      "display_name": "Python 3",
      "language": "python",
      "name": "python3"
    },
    "language_info": {
      "codemirror_mode": {
        "name": "ipython",
        "version": 3
      },
      "file_extension": ".py",
      "mimetype": "text/x-python",
      "name": "python",
      "nbconvert_exporter": "python",
      "pygments_lexer": "ipython3",
      "version": "3.7.4"
    },
    "colab": {
      "name": "Ex3.ipynb",
      "provenance": [],
      "include_colab_link": true
    }
  },
  "cells": [
    {
      "cell_type": "markdown",
      "metadata": {
        "id": "view-in-github",
        "colab_type": "text"
      },
      "source": [
        "<a href=\"https://colab.research.google.com/github/parhambarazesh/PET575/blob/master/Ex3.ipynb\" target=\"_parent\"><img src=\"https://colab.research.google.com/assets/colab-badge.svg\" alt=\"Open In Colab\"/></a>"
      ]
    },
    {
      "cell_type": "code",
      "metadata": {
        "id": "WXQf0kWxial_",
        "colab_type": "code",
        "colab": {},
        "outputId": "8649cade-60ef-4454-aa0c-57ae2d3fdff3"
      },
      "source": [
        "import numpy as np\n",
        "temp=np.array([4,20,50,75,100,125,150,175,200])\n",
        "pres=np.array([1,14.790,42.230,69.940,90.632,118.211,145.790,\n",
        "               173.369,200.948,228.527,256.106,311.264,366.422,435.370,490.528,900.000])\n",
        "\n",
        "dens=np.array([\n",
        "        [0.806125,0.800000,0.780827,0.763662,0.746678,0.728862,0.710629,0.691998,0.672913],\n",
        "        [0.806817,0.800736,0.781693,0.764649,0.747784,0.730090,0.711983,0.693480,0.674531],\n",
        "        [0.808179,0.802188,0.783405,0.766599,0.749967,0.732518,0.714662,0.696410,0.677723],\n",
        "        [0.809532,0.803627,0.785100,0.768529,0.752127,0.734918,0.717301,0.699301,0.680865],\n",
        "        [0.810547,0.804707,0.786366,0.769966,0.753731,0.736691,0.719258,0.701437,0.683187],\n",
        "        [0.811883,0.806129,0.788038,0.771860,0.755843,0.739038,0.721835,0.704256,0.686248],\n",
        "        [0.813225,0.807552,0.789697,0.773734,0.757926,0.741345,0.724378,0.707023,0.689258],\n",
        "        [0.814552,0.808956,0.791332,0.775586,0.759992,0.743628,0.726880,0.709757,0.692223],\n",
        "        [0.815870,0.810355,0.792962,0.777418,0.762022,0.745876,0.729348,0.712445,0.695138],\n",
        "        [0.817183,0.811741,0.794567,0.779229,0.764034,0.748095,0.731775,0.715087,0.698009],\n",
        "        [0.818492,0.813122,0.796161,0.781018,0.766017,0.750278,0.734167,0.717695,0.700828],\n",
        "        [0.821073,0.815847,0.799305,0.784537,0.769903,0.754556,0.738845,0.722772,0.706323],\n",
        "        [0.823640,0.818543,0.802382,0.787971,0.773688,0.758708,0.743370,0.727692,0.711635],\n",
        "        [0.826798,0.821853,0.806142,0.792151,0.778279,0.763727,0.748833,0.733596,0.718013],\n",
        "        [0.829287,0.824457,0.809084,0.795400,0.781831,0.767602,0.753036,0.738137,0.722899],\n",
        "        [0.847760,0.843786,0.830923,0.819527,0.808205,0.796365,0.784232,0.771855,0.759173]\n",
        "     ])*0.01\n",
        "\n",
        "dens0=0.8*.01\n",
        "temp0=20\n",
        "\n",
        "#Method 1 using fmincon to calculate beta, alpha and pres0 \n",
        " \n",
        "para_temp=temp\n",
        "para_pres=pres\n",
        "para_dens=dens\n",
        "\n",
        "\n",
        "def objective(x):\n",
        "    t=para_temp;\n",
        "    p=para_pres;\n",
        "    d=para_dens;\n",
        "    y=[];\n",
        " \n",
        "    for i in range(0,len(t)):\n",
        "        for j in range(0,len(p)):\n",
        "            temp=x[0]+x[1]*t[i]+x[2]*p[j]-d[j,i]\n",
        "            y=np.append(y,temp)\n",
        "\n",
        "    cost=sum(y**2);\n",
        "    return cost\n",
        "\n",
        "\n",
        "from scipy.optimize import minimize\n",
        "\n",
        "x0=[2,1,1]\n",
        "\n",
        "sol=minimize(objective,x0,method='powell',options={'disp':True})\n",
        "\n",
        "a=sol.x[0]\n",
        "b=sol.x[1]\n",
        "c=sol.x[2]\n",
        "beta=dens0/b                #dens0/beta=b\n",
        "alpha=c/dens0               #dens0*alpha=c\n",
        "pres0=(dens0-c*temp0-a)/b   #dens0-b*pres0-c*temp0=a\n",
        "\n",
        "import numpy as np \n",
        "import numpy.matlib \n",
        "\n",
        "X1 = np.matlib.repmat(pres.reshape(-1,1), len(temp), 1)  \n",
        "t=np.matlib.repmat(temp,len(pres),1)\n",
        "#X2=t.reshape(np.size(t,0)*np.size(t,1),1)\n",
        "X2=[]\n",
        "for i in range(0,np.size(t,1)):\n",
        "    X2=np.concatenate((X2,t[:,i]))\n",
        "X2=X2.reshape(-1,1)\n",
        "X=np.concatenate((np.ones(len(X1)).reshape(-1,1),X1,X2),axis=1)\n",
        "#Y=dens.reshape(np.size(dens,0)*np.size(dens,1),1)\n",
        "Y=[]\n",
        "for i in range(0,np.size(dens,1)):\n",
        "    Y=np.concatenate((Y,dens[:,i]))\n",
        "Y=Y.reshape(-1,1)\n",
        "opt_lls=np.matmul(np.matmul(np.linalg.inv(np.matmul(X.transpose(),X)),X.transpose()),Y)\n",
        "\n",
        "a=opt_lls[0]\n",
        "b=opt_lls[1]\n",
        "c=opt_lls[2]\n",
        "\n",
        "beta_lls=dens0/b                #dens0/beta=b\n",
        "alpha_lls=c/dens0               #dens0*alpha=c\n",
        "pres0_lls=(dens0-c*temp0-a)/b   #dens0-b*pres0-c*temp0=a\n",
        "\n"
      ],
      "execution_count": 0,
      "outputs": [
        {
          "output_type": "stream",
          "text": [
            "Optimization terminated successfully.\n",
            "         Current function value: 0.000000\n",
            "         Iterations: 5\n",
            "         Function evaluations: 166\n"
          ],
          "name": "stdout"
        }
      ]
    },
    {
      "cell_type": "code",
      "metadata": {
        "id": "PQzS65D3iamD",
        "colab_type": "code",
        "colab": {}
      },
      "source": [
        ""
      ],
      "execution_count": 0,
      "outputs": []
    }
  ]
}